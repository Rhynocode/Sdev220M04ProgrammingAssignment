{
 "cells": [
  {
   "cell_type": "markdown",
   "id": "09c2cc8b-4dff-439e-98d5-c07b3f04b22f",
   "metadata": {},
   "source": [
    "SDev220"
   ]
  },
  {
   "cell_type": "markdown",
   "id": "dbfbef01-39d4-4008-9e37-5fe07f82d394",
   "metadata": {},
   "source": [
    "Ryan Hayes"
   ]
  },
  {
   "cell_type": "markdown",
   "id": "7cfebe36-78c6-420a-a62b-8a6768f618f8",
   "metadata": {},
   "source": [
    "M04 Programming Assignment - Modules and Databases"
   ]
  },
  {
   "cell_type": "code",
   "execution_count": 7,
   "id": "d66697ca-5c4e-4bfe-8425-5f835d53b6af",
   "metadata": {},
   "outputs": [
    {
     "name": "stdout",
     "output_type": "stream",
     "text": [
      "Open 9-5 daily\n",
      "Open 9-5 daily\n"
     ]
    }
   ],
   "source": [
    "##### Question 11.1 #####\n",
    "\n",
    "# zoo.py\n",
    "# def hours():\n",
    "#    print('Open 9-5 daily')\n",
    "\n",
    "# Write the function to file\n",
    "file_content = \"\"\"def hours():\n",
    "    print('Open 9-5 daily')\n",
    "\"\"\"\n",
    "\n",
    "# Name file zoo.py and ensure file closes when finished\n",
    "with open('zoo.py', 'w') as file:\n",
    "    file.write(file_content)\n",
    "\n",
    "import zoo\n",
    "zoo.hours()\n",
    "#########################\n",
    "##### Question 11.2 #####\n",
    "import zoo as menagerie\n",
    "menagerie.hours()\n",
    "\n"
   ]
  },
  {
   "cell_type": "code",
   "execution_count": 2,
   "id": "16f0a4e2-cb42-4220-9d94-2789ea6fa30c",
   "metadata": {},
   "outputs": [
    {
     "name": "stdout",
     "output_type": "stream",
     "text": [
      "File 'books2.csv' has been created with the provided data.\n",
      "Database created and table 'books' initialized.\n",
      "Data from 'books2.csv' has been successfully inserted into 'books' table.\n",
      "Perdido Street Station\n",
      "Small Gods\n",
      "The Spellman Files\n",
      "The Weirdstone of Brisingamen\n",
      "Thud!\n",
      "Database and CSV files have been deleted after use.\n"
     ]
    }
   ],
   "source": [
    "import sqlite3\n",
    "import os\n",
    "import csv\n",
    "from sqlalchemy import create_engine, select, MetaData, Table\n",
    "\n",
    "# Step 1: Write the CSV data to a file\n",
    "data = \"\"\"title,author,year\n",
    "The Weirdstone of Brisingamen,Alan Garner,1960\n",
    "Perdido Street Station,China Miéville,2000\n",
    "Thud!,Terry Pratchett,2005\n",
    "The Spellman Files,Lisa Lutz,2007\n",
    "Small Gods,Terry Pratchett,1992\"\"\"\n",
    "file_path = 'books2.csv'\n",
    "\n",
    "with open(file_path, 'w', encoding='utf-8') as file:\n",
    "    file.write(data)\n",
    "\n",
    "print(f\"File '{file_path}' has been created with the provided data.\")\n",
    "\n",
    "# Step 2: Create the database and table using SQLite\n",
    "conn = sqlite3.connect('books.db')\n",
    "cursor = conn.cursor()\n",
    "create_table_query = \"\"\"\n",
    "CREATE TABLE IF NOT EXISTS books (\n",
    "    title TEXT,\n",
    "    author TEXT,\n",
    "    year INTEGER\n",
    ");\"\"\"\n",
    "cursor.execute(create_table_query)\n",
    "conn.commit()\n",
    "conn.close()\n",
    "\n",
    "print(\"Database created and table 'books' initialized.\")\n",
    "\n",
    "# Step 3: Insert data from the CSV file into the database\n",
    "conn = sqlite3.connect('books.db')\n",
    "cursor = conn.cursor()\n",
    "\n",
    "# Clear previous data to avoid duplication\n",
    "cursor.execute('DELETE FROM books;')\n",
    "conn.commit()\n",
    "\n",
    "with open(file_path, newline='', encoding='utf-8') as csvfile:\n",
    "    reader = csv.DictReader(csvfile)\n",
    "    books = [(row['title'], row['author'], int(row['year'])) for row in reader]\n",
    "insert_query = 'INSERT INTO books (title, author, year) VALUES (?, ?, ?)'\n",
    "cursor.executemany(insert_query, books)\n",
    "conn.commit()\n",
    "conn.close()\n",
    "\n",
    "print(f\"Data from '{file_path}' has been successfully inserted into 'books' table.\")\n",
    "\n",
    "# Step 4: Query the database using SQLAlchemy without echoing SQL commands\n",
    "engine = create_engine('sqlite:///books.db', echo=False)\n",
    "metadata = MetaData()\n",
    "books_table = Table('books', metadata, autoload_with=engine)\n",
    "query = select(books_table.c.title).order_by(books_table.c.title)\n",
    "with engine.connect() as connection:\n",
    "    result = connection.execute(query)\n",
    "    for row in result:\n",
    "        print(row[0])\n",
    "\n",
    "# Ensure all connections are closed before deleting the files\n",
    "engine.dispose()\n",
    "\n",
    "# Step 5: Delete the database and CSV files after use\n",
    "try:\n",
    "    os.remove('books.db')\n",
    "    os.remove(file_path)\n",
    "    print(\"Database and CSV files have been deleted after use.\")\n",
    "except PermissionError as e:\n",
    "    print(f\"Error deleting files: {e}\")\n",
    "except Exception as e:\n",
    "    print(f\"An error occurred while deleting files: {e}\")\n",
    "\n",
    "\n",
    "\n"
   ]
  },
  {
   "cell_type": "code",
   "execution_count": null,
   "id": "9b56af86-20f4-4f67-bfe1-8a8c5f2fb674",
   "metadata": {},
   "outputs": [],
   "source": []
  }
 ],
 "metadata": {
  "kernelspec": {
   "display_name": "Python 3 (ipykernel)",
   "language": "python",
   "name": "python3"
  },
  "language_info": {
   "codemirror_mode": {
    "name": "ipython",
    "version": 3
   },
   "file_extension": ".py",
   "mimetype": "text/x-python",
   "name": "python",
   "nbconvert_exporter": "python",
   "pygments_lexer": "ipython3",
   "version": "3.12.0"
  }
 },
 "nbformat": 4,
 "nbformat_minor": 5
}
